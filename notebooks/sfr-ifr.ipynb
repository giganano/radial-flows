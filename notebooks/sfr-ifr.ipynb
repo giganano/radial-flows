{
 "cells": [
  {
   "cell_type": "code",
   "execution_count": 1,
   "id": "3e0cd72c-e44a-4698-b47a-1eba658e046f",
   "metadata": {},
   "outputs": [
    {
     "name": "stderr",
     "output_type": "stream",
     "text": [
      "/Users/jamesjohnson/Work/Research/lib/public-dev/VICE/vice/__init__.py:141: UserWarning: Using un-released version of VICE\n",
      "  warnings.warn(\"Using un-released version of VICE\", UserWarning)\n"
     ]
    },
    {
     "name": "stdout",
     "output_type": "stream",
     "text": [
      "sys.version_info(major=3, minor=12, micro=3, releaselevel='final', serial=0)\n"
     ]
    }
   ],
   "source": [
    "from matplotlib.ticker import FormatStrFormatter as fsf\n",
    "import matplotlib.pyplot as plt\n",
    "from plots.mpltoolkit import mpl_loc, named_colors, markers, fancy_legend, negative_log, load_style_sheet\n",
    "# from plots.mpltoolkit import mpl_loc, named_colors, markers, fancy_legend, load_style_sheet\n",
    "import numpy as np\n",
    "import math as m\n",
    "import vice\n",
    "import sys\n",
    "import os\n",
    "sys.path.append(\"..\")\n",
    "from src.utils import mu, get_velocity_profile, boxcarsmoothtrend, oh_to_12pluslog\n",
    "load_style_sheet(\"papers\")\n",
    "print(sys.version_info)"
   ]
  },
  {
   "cell_type": "code",
   "execution_count": 2,
   "id": "5ecd46e4-107b-4f1f-9724-8a3da8d12b1b",
   "metadata": {},
   "outputs": [],
   "source": [
    "reference = vice.output(\"../outputs/constant/vgas-0\")"
   ]
  },
  {
   "cell_type": "code",
   "execution_count": 22,
   "id": "daf392f4-45ab-4584-b76b-3fbb9e044309",
   "metadata": {},
   "outputs": [],
   "source": [
    "outputs = [\n",
    "    # \"../outputs/constant/vgas-0p5\",\n",
    "    # \"../outputs/constant/vgas-1\",\n",
    "    # \"../outputs/constant/vgas-1p5\"\n",
    "    \"../outputs/potential-well-deepening/gamma0p1\",\n",
    "    \"../outputs/potential-well-deepening/gamma0p2\",\n",
    "    \"../outputs/potential-well-deepening/gamma0p3\"\n",
    "    # \"../outputs/angular-momentum-dilution/betaphiin0p8\",\n",
    "    # \"../outputs/angular-momentum-dilution/betaphiin0p7\",\n",
    "    # \"../outputs/angular-momentum-dilution/betaphiin0p6\"\n",
    "]\n",
    "outputs = [vice.output(name) for name in outputs]"
   ]
  },
  {
   "cell_type": "code",
   "execution_count": 23,
   "id": "b4d268bd-e274-4038-8ffe-f6c7f5c2a3b1",
   "metadata": {},
   "outputs": [
    {
     "name": "stderr",
     "output_type": "stream",
     "text": [
      "/var/folders/26/nqb98q9x5_q6brmqy4v21dqm0000gp/T/ipykernel_38594/1483865715.py:110: UserWarning: This figure includes Axes that are not compatible with tight_layout, so results might be incorrect.\n",
      "  plt.tight_layout()\n",
      "/Users/jamesjohnson/Work/Research/lib/personal/plots/mpltoolkit/core.py:103: UserWarning: set_ticklabels() should only be used with a fixed number of ticks, i.e. after set_ticks() or using a FixedLocator.\n",
      "  ax.set_yticklabels(labels)\n"
     ]
    },
    {
     "data": {
      "image/png": "[encoded data removed]",
      "text/plain": [
       "<Figure size 300x300 with 3 Axes>"
      ]
     },
     "metadata": {},
     "output_type": "display_data"
    }
   ],
   "source": [
    "# LOGFACTOR = 3\n",
    "COLORS = [\"crimson\", \"black\", \"dodgerblue\"]\n",
    "# LABELS = [r\"$v_{r,g} = %.1f$ km/s\" % (v) for v in [-0.5, -1, -1.5]]\n",
    "# GRAD = [-0.052, -0.063, -0.069]\n",
    "LABELS = [r\"$\\gamma = 0.1$\", r\"$\\gamma = 0.2$\", r\"$\\gamma = 0.3$\"]\n",
    "GRAD = [-0.050, -0.058, -0.065]\n",
    "# LABELS = [r\"$\\beta_{\\phi,\\text{in}} = %g$\" % (b) for b in [0.8, 0.7, 0.6]]\n",
    "GRAD = [-0.061, -0.072, -0.081]\n",
    "\n",
    "fig = plt.figure(figsize = (3, 3))\n",
    "# ax = fig.add_subplot(111)\n",
    "# ax.set_xlabel(r\"Galactocentric Radius [kpc]\")\n",
    "# ax.set_ylabel(r\"$\\dot \\Sigma_\\text{in} / \\dot \\Sigma_\\text{in}(v_{r,g} = 0)$ [$\\times$ 10$^{-%d}$]\" % (LOGFACTOR))\n",
    "# ax.set_xlim([0, 15])\n",
    "# ax.set_ylim([-3, 3])\n",
    "# ax.set_yticks([-2, 0, 2])\n",
    "ax1 = fig.add_subplot(211)\n",
    "ax2 = fig.add_subplot(212, sharex = ax1)\n",
    "for ax in [ax1, ax2]:\n",
    "    ax.set_yscale(\"log\")\n",
    "    ax.yaxis.set_major_formatter(fsf(\"%g\"))\n",
    "# ax1.set_yscale(\"log\")\n",
    "# ax2.set_yscale(\"log\")\n",
    "plt.setp(ax1.get_xticklabels(), visible = False)\n",
    "ax2.set_xlabel(r\"Galactocentric Radius [kpc]\")\n",
    "dummy = fig.add_axes([0.1, 0.1, 0.8, 0.8], xticks = [], yticks = [], zorder = -1000)\n",
    "dummy.spines[\"left\"].set_visible(False)\n",
    "dummy.spines[\"right\"].set_visible(False)\n",
    "# dummy.set_ylabel(r\"$\\dot \\Sigma_\\text{in} / \\dot \\Sigma_\\text{in}(v_{r,g} = 0)$\", labelpad = 40)\n",
    "dummy.set_ylabel(r\"$\\dot \\Sigma_\\text{in}$ \\% diff. w.r.t. $v_{r,g} = 0$\", labelpad = 40)\n",
    "ax1.set_xlim([0, 15])\n",
    "# ax1.set_ylim([3.e-5, 3.e-2]) # Constant\n",
    "# ax2.set_ylim([3.e-4, 3.e-1])\n",
    "ax1.set_ylim([3.e-3, 1.e0]) # PWD\n",
    "ax2.set_ylim([3.e-3, 1.e0])\n",
    "dummy.set_xlim([0, 15])\n",
    "dummy.set_ylim([0, 1])\n",
    "kwargs = {\n",
    "    \"axis\": \"x\",\n",
    "    \"which\": \"both\",\n",
    "    \"bottom\": False\n",
    "}\n",
    "ax1.tick_params(**kwargs)\n",
    "kwargs[\"bottom\"] = True\n",
    "kwargs[\"top\"] = False\n",
    "ax2.tick_params(**kwargs)\n",
    "ax1.spines[\"bottom\"].set_visible(False)\n",
    "ax2.spines[\"top\"].set_visible(False)\n",
    "\n",
    "def ifr_snapshot(output, lookback, zone_width = 0.1):\n",
    "    diff = [abs(_ - lookback) for _ in output.zones[\"zone0\"].history[\"lookback\"]]\n",
    "    idx = diff.index(min(diff))\n",
    "    n_zones = len(output.zones.keys())\n",
    "    radii = [zone_width * (i + 0.5) for i in range(n_zones)]\n",
    "    ifr = [output.zones[\"zone%d\" % (i)].history[\"ifr\"][idx] for i in range(n_zones)]\n",
    "    return [radii, ifr]\n",
    "\n",
    "def plot_diff(ax_pos, ax_neg, output, reference, lookback, zone_width = 0.1, **kwargs):\n",
    "    # print('a')\n",
    "    radii, ifr = ifr_snapshot(output, lookback, zone_width = zone_width)\n",
    "    # print('b')\n",
    "    _, ref_ifr = ifr_snapshot(reference, lookback, zone_width = zone_width)\n",
    "    # print('c')\n",
    "    yvals = [a / b - 1 if b else float(\"nan\") for a, b in zip(ifr, ref_ifr)]\n",
    "    yvals = boxcarsmoothtrend(radii, yvals, window = 10)\n",
    "    ax_pos.plot(radii, yvals, **kwargs)\n",
    "    if kwargs[\"label\"] is not None: kwargs[\"label\"] = None\n",
    "    ax_neg.plot(radii, [-y for y in yvals], **kwargs)\n",
    "\n",
    "lines = []\n",
    "for i in range(len(outputs)):\n",
    "    kwargs = {\n",
    "        \"c\": named_colors()[COLORS[i]],\n",
    "        \"label\": LABELS[i]\n",
    "        # \"label\": r\"$\\nabla = %.3f$ kpc$^{-1}$\" % (GRAD[i])\n",
    "    }\n",
    "    lines.append(\n",
    "        ax2.plot([1, 2], [1, 2], **kwargs)[0]\n",
    "    )\n",
    "kwargs = {\n",
    "    \"loc\": mpl_loc(\"lower right\"),\n",
    "    \"handlelength\": 0,\n",
    "    \"fontsize\": 11\n",
    "}\n",
    "leg = ax2.legend(**kwargs)\n",
    "fancy_legend(leg, COLORS)\n",
    "ax2.add_artist(leg)\n",
    "for line in lines: line.remove()\n",
    "\n",
    "for i in range(len(outputs)):\n",
    "    kwargs = {\n",
    "        \"c\": named_colors()[COLORS[i]],\n",
    "        # \"label\": LABELS[i]\n",
    "        \"label\": r\"$%.3f$ kpc$^{-1}$\" % (GRAD[i])\n",
    "        # \"label\": r\"%s; $\\nabla = %.3f$ kpc$^{-1}$\" % (LABELS[i], GRAD[i])\n",
    "    }\n",
    "    plot_diff(ax1, ax2, outputs[i], reference, 0, **kwargs)\n",
    "\n",
    "# ax.axhline(0, c = named_colors()[\"black\"], linestyle = \":\")\n",
    "\n",
    "kwargs = {\n",
    "    \"loc\": mpl_loc(\"upper left\"),\n",
    "    \"handlelength\": 0,\n",
    "    \"fontsize\": 11\n",
    "}\n",
    "leg = ax1.legend(**kwargs)\n",
    "fancy_legend(leg, COLORS)\n",
    "\n",
    "h = 0.1\n",
    "plt.tight_layout()\n",
    "negative_log(ax2)\n",
    "plt.subplots_adjust(left = 0.28, hspace = h)\n",
    "dummy.fill_between(dummy.get_xlim(), 2 * [0.5 - h / 2], 2 * [0.5 + h / 2],\n",
    "    color = named_colors()[\"grey\"])\n",
    "dummy.set_position([\n",
    "    ax1.get_position().x0,\n",
    "    ax2.get_position().y0,\n",
    "    ax1.get_position().x1 - ax1.get_position().x0,\n",
    "    ax1.get_position().y1 - ax2.get_position().y0\n",
    "])\n",
    "for ext in [\"pdf\", \"jpeg\"]:\n",
    "    kwargs = {}\n",
    "    if ext == \"jpeg\": kwargs[\"dpi\"] = 200\n",
    "    # plt.savefig(\"./sfr-ifr/ifrshift-constant.%s\" % (ext), **kwargs)\n",
    "    plt.savefig(\"./sfr-ifr/ifrshift-pwd.%s\" % (ext), **kwargs)\n",
    "    # plt.savefig(\"./sfr-ifr/ifrshift-amd.%s\" % (ext), **kwargs)\n",
    "plt.show()"
   ]
  },
  {
   "cell_type": "code",
   "execution_count": null,
   "id": "9ff95bda-8c11-4fa2-8bda-bbbbf9857740",
   "metadata": {},
   "outputs": [],
   "source": [
    "outputs = [\n",
    "    \"../outputs/constant/vgas-0\",\n",
    "    \"../outputs/"
   ]
  },
  {
   "cell_type": "code",
   "execution_count": 35,
   "id": "58d4d253-2ff2-4b97-8db5-bfe1307bc734",
   "metadata": {},
   "outputs": [
    {
     "name": "stderr",
     "output_type": "stream",
     "text": [
      "/var/folders/mh/jf6nfbl941l_41vvvwwk5wbr0000gn/T/ipykernel_46541/1937142896.py:13: UserWarning: This figure includes Axes that are not compatible with tight_layout, so results might be incorrect.\n",
      "  plt.tight_layout()\n"
     ]
    },
    {
     "data": {
      "image/png": "[encoded data removed]",
      "text/plain": [
       "<Figure size 300x300 with 2 Axes>"
      ]
     },
     "metadata": {},
     "output_type": "display_data"
    }
   ],
   "source": [
    "COLORS = \n",
    "\n",
    "fig = plt.figure(figsize = (3, 3))\n",
    "ax = fig.add_subplot(111)\n",
    "res = fig.add_axes([0.1, 0.1, 0.8, 0.1], sharex = ax)\n",
    "plt.setp(ax.get_xticklabels(), visible = False)\n",
    "res.set_xlabel(r\"Galactocentric Radius [kpc]\")\n",
    "ax.set_ylabel(r\"$\\dot \\Sigma$ [M$_\\odot$ kpc$^{-2}$ yr$^{-1}$]\")\n",
    "res.set_ylabel(r\"$\\frac{\\partial \\ln \\dot \\Sigma}{\\partial R}$ [kpc$^{-1}$]\")\n",
    "ax.set_yscale(\"log\")\n",
    "ax.set_xlim([0, 15])\n",
    "ax.set_ylim([3.e-4, 0.3])\n",
    "\n",
    "def plot_profile\n",
    "\n",
    "reswidth = 0.25\n",
    "plt.tight_layout()\n",
    "res.set_position([\n",
    "    ax.get_position().x0,\n",
    "    ax.get_position().y0,\n",
    "    ax.get_position().x1 - ax.get_position().x0,\n",
    "    reswidth\n",
    "])\n",
    "ax.set_position([\n",
    "    ax.get_position().x0,\n",
    "    ax.get_position().y0 + reswidth,\n",
    "    ax.get_position().x1 - ax.get_position().x0,\n",
    "    ax.get_position().y1 - ax.get_position().y0 - reswidth\n",
    "])\n",
    "plt.show()"
   ]
  },
  {
   "cell_type": "code",
   "execution_count": null,
   "id": "274625c6-eb84-448d-8a01-2252d2aafa9f",
   "metadata": {},
   "outputs": [],
   "source": []
  }
 ],
 "metadata": {
  "kernelspec": {
   "display_name": "Python 3 (ipykernel)",
   "language": "python",
   "name": "python3"
  },
  "language_info": {
   "codemirror_mode": {
    "name": "ipython",
    "version": 3
   },
   "file_extension": ".py",
   "mimetype": "text/x-python",
   "name": "python",
   "nbconvert_exporter": "python",
   "pygments_lexer": "ipython3",
   "version": "3.12.3"
  }
 },
 "nbformat": 4,
 "nbformat_minor": 5
}
