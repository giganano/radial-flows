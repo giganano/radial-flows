{
 "cells": [
  {
   "cell_type": "code",
   "execution_count": 1,
   "id": "7109b62c",
   "metadata": {},
   "outputs": [
    {
     "name": "stderr",
     "output_type": "stream",
     "text": [
      "/Users/astrobeard/Work/Research/VICErepos/VICE/vice/__init__.py:141: UserWarning: Using un-released version of VICE\n",
      "  warnings.warn(\"Using un-released version of VICE\", UserWarning)\n"
     ]
    },
    {
     "name": "stdout",
     "output_type": "stream",
     "text": [
      "sys.version_info(major=3, minor=10, micro=2, releaselevel='final', serial=0)\n"
     ]
    }
   ],
   "source": [
    "from matplotlib.ticker import FormatStrFormatter as fsf\n",
    "import matplotlib.pyplot as plt\n",
    "# from plots.mpltoolkit import mpl_loc, named_colors, markers, fancy_legend, negative_log, load_style_sheet\n",
    "from plots.mpltoolkit import mpl_loc, named_colors, markers, fancy_legend, load_style_sheet\n",
    "import numpy as np\n",
    "import math as m\n",
    "import vice\n",
    "import sys\n",
    "sys.path.append(\"..\")\n",
    "from src.utils import mu, get_velocity_profile, boxcarsmoothtrend\n",
    "load_style_sheet(\"papers\")\n",
    "print(sys.version_info)"
   ]
  },
  {
   "cell_type": "code",
   "execution_count": 21,
   "id": "146d4f87",
   "metadata": {},
   "outputs": [],
   "source": [
    "output = vice.output(\"../outputs/constant/vgas-0p5-new-nomig\")"
   ]
  },
  {
   "cell_type": "code",
   "execution_count": 22,
   "id": "8369795d",
   "metadata": {},
   "outputs": [
    {
     "name": "stdout",
     "output_type": "stream",
     "text": [
      "0.0001567746326695573\n",
      "3.71388212153343\n",
      "0.0015401673539488273\n",
      "0.02457155734020783\n",
      "-0.0005098660318746213\n"
     ]
    },
    {
     "data": {
      "image/png": "[encoded data removed]",
      "text/plain": [
       "<Figure size 252x252 with 1 Axes>"
      ]
     },
     "metadata": {},
     "output_type": "display_data"
    }
   ],
   "source": [
    "N_RADII = 150\n",
    "\n",
    "fig = plt.figure(figsize = (3.5, 3.5))\n",
    "ax = fig.add_subplot(111)\n",
    "# ax.set_xlabel(r\"Lookback Time [Gyr]\")\n",
    "ax.set_xlabel(r\"Galactocentric Radius [kpc]\")\n",
    "ax.set_ylabel(r\"$\\dot Z_\\text{flow}$ [Gyr$^{-1}$]\")\n",
    "ax.set_xlim([0, 15])\n",
    "ax.set_ylim([-0.003, 0.003])\n",
    "\n",
    "def numerical_result(lookback, output, zone_width = 0.1, **kwargs):\n",
    "    radii, vgas = get_velocity_profile(output, lookback)\n",
    "    diff = [abs(_ - lookback) for _ in output.zones[\"zone0\"].history[\"lookback\"]]\n",
    "    idx = diff.index(min(diff))\n",
    "    if idx == len(output.zones[\"zone0\"].history[\"lookback\"]) - 1: idx -= 1\n",
    "    zdotflow = []\n",
    "    for i in range(N_RADII):\n",
    "        zone = output.zones[\"zone%d\" % (i)]\n",
    "        dt = zone.history[\"lookback\"][idx] - zone.history[\"lookback\"][idx + 1]\n",
    "        dzdt = (zone.history[\"z(o)\"][idx + 1] - zone.history[\"z(o)\"][idx]) / dt\n",
    "        if i == 80: print(dzdt)\n",
    "        zdot = dzdt\n",
    "        if zone.history[\"sfr\"][i]:\n",
    "            taustar = zone.history[\"mgas\"][idx] / zone.history[\"sfr\"][idx] * 1.e-9\n",
    "            eta = zone.history[\"ofr\"][idx] / zone.history[\"sfr\"][idx]\n",
    "        else:\n",
    "            zdotflow.append(0)\n",
    "            continue\n",
    "        if i == 80: print(taustar)\n",
    "        if i == 80: print(zone.ccsne_yields['o'] / taustar)\n",
    "        zdot -= zone.ccsne_yields['o'] / taustar\n",
    "        dlnmgdt = zone.history[\"mgas\"][idx + 1] - zone.history[\"mgas\"][idx]\n",
    "        dlnmgdt /= zone.history[\"mgas\"][idx] * dt\n",
    "        if i == 80: print(dlnmgdt)\n",
    "        zdot += zone.history[\"z(o)\"][idx] / taustar * (\n",
    "            1 + eta - zone.history[\"R_eff\"][idx] + taustar * dlnmgdt)\n",
    "        if i == 80: print(zdot)\n",
    "        zdotflow.append(zdot)\n",
    "    return [radii[:N_RADII], zdotflow]\n",
    "\n",
    "def analytic_expectation(lookback, output, zone_width = 0.1, **kwargs):\n",
    "    radii, vgas = get_velocity_profile(output, lookback)\n",
    "    diff = [abs(_ - lookback) for _ in output.zones[\"zone0\"].history[\"lookback\"]]\n",
    "    idx = diff.index(min(diff))\n",
    "    zdotflow = []\n",
    "    for i in range(N_RADII):\n",
    "        zone = output.zones[\"zone%d\" % (i)]\n",
    "        neighbor = output.zones[\"zone%d\" % (i + 1)]\n",
    "        dzdr = (neighbor.history[\"z(o)\"][idx] - zone.history[\"z(o)\"][idx]) / zone_width\n",
    "        zdotflow.append(-vgas[i] * dzdr)\n",
    "    return [radii[:N_RADII], zdotflow]\n",
    "\n",
    "def plot_comparison(lookback, output, zone_width = 0.1, **kwargs):\n",
    "    radii, numeric = numerical_result(0, output, zone_width = zone_width)\n",
    "    _, analytic = analytic_expectation(0, output, zone_width = zone_width)\n",
    "    ax.plot(radii, numeric, linestyle = \"-\", **kwargs)\n",
    "    ax.plot(radii, analytic, linestyle = \":\", **kwargs)\n",
    "\n",
    "plot_comparison(8, output, c = named_colors()[\"black\"])\n",
    "\n",
    "plt.tight_layout()\n",
    "plt.show()"
   ]
  },
  {
   "cell_type": "code",
   "execution_count": null,
   "id": "1b979877",
   "metadata": {},
   "outputs": [],
   "source": []
  }
 ],
 "metadata": {
  "kernelspec": {
   "display_name": "Python 3 (ipykernel)",
   "language": "python",
   "name": "python3"
  },
  "language_info": {
   "codemirror_mode": {
    "name": "ipython",
    "version": 3
   },
   "file_extension": ".py",
   "mimetype": "text/x-python",
   "name": "python",
   "nbconvert_exporter": "python",
   "pygments_lexer": "ipython3",
   "version": "3.10.2"
  }
 },
 "nbformat": 4,
 "nbformat_minor": 5
}
