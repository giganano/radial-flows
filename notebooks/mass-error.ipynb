{
 "cells": [
  {
   "cell_type": "code",
   "execution_count": 1,
   "id": "527e8cae",
   "metadata": {},
   "outputs": [
    {
     "name": "stderr",
     "output_type": "stream",
     "text": [
      "/Users/astrobeard/Work/Research/VICErepos/VICE/vice/__init__.py:141: UserWarning: Using un-released version of VICE\n",
      "  warnings.warn(\"Using un-released version of VICE\", UserWarning)\n"
     ]
    },
    {
     "name": "stdout",
     "output_type": "stream",
     "text": [
      "sys.version_info(major=3, minor=10, micro=2, releaselevel='final', serial=0)\n"
     ]
    }
   ],
   "source": [
    "from matplotlib.ticker import FormatStrFormatter as fsf\n",
    "import matplotlib.pyplot as plt\n",
    "# from plots.mpltoolkit import mpl_loc, named_colors, markers, fancy_legend, negative_log, load_style_sheet\n",
    "from plots.mpltoolkit import mpl_loc, named_colors, markers, fancy_legend, load_style_sheet\n",
    "import numpy as np\n",
    "import math as m\n",
    "import vice\n",
    "import sys\n",
    "import os\n",
    "sys.path.append(\"..\")\n",
    "from src.utils import mu, get_velocity_profile\n",
    "load_style_sheet(\"papers\")\n",
    "print(sys.version_info)"
   ]
  },
  {
   "cell_type": "code",
   "execution_count": 58,
   "id": "000efbe5",
   "metadata": {},
   "outputs": [],
   "source": [
    "output = vice.output(\"../outputs/constant/vgas-1\")"
   ]
  },
  {
   "cell_type": "code",
   "execution_count": 74,
   "id": "a0978e0f",
   "metadata": {},
   "outputs": [
    {
     "name": "stderr",
     "output_type": "stream",
     "text": [
      "/var/folders/1p/lm_h7y810f9_7ygnvr2tjc_w0000gn/T/ipykernel_49078/2413118222.py:63: UserWarning: This figure includes Axes that are not compatible with tight_layout, so results might be incorrect.\n",
      "  plt.tight_layout()\n"
     ]
    },
    {
     "data": {
      "image/png": "[encoded data removed]",
      "text/plain": [
       "<Figure size 252x252 with 2 Axes>"
      ]
     },
     "metadata": {},
     "output_type": "display_data"
    }
   ],
   "source": [
    "LOOKBACKS = [0.01, 2, 4, 6, 8, 10, 12][::-1]\n",
    "COLORMAP = \"viridis\"\n",
    "\n",
    "fig = plt.figure(figsize = (3.5, 3.5))\n",
    "ax = fig.add_subplot(111)\n",
    "ax.set_xlabel(r\"Galactocentric Radius [kpc]\")\n",
    "ax.set_ylabel(r\"$\\dot \\Sigma_\\text{in,error}$ [M$_\\odot$ kpc$^{-2}$ yr$^{-1}$]\")\n",
    "ax.set_yscale(\"log\")\n",
    "ax.set_xlim([0, 15])\n",
    "ax.set_ylim([5.e-4, 0.05])\n",
    "\n",
    "norm = plt.Normalize(vmin = min(LOOKBACKS), vmax = max(LOOKBACKS))\n",
    "cmap = plt.cm.ScalarMappable(cmap = COLORMAP, norm = norm)\n",
    "cbar_ax = fig.add_axes([0.9, 0.1, 0.05, 0.6])\n",
    "cbar = plt.colorbar(cmap, cax = cbar_ax, orientation = \"horizontal\")\n",
    "cbar.set_label(\"Lookback Time [Gyr]\", labelpad = 8)\n",
    "cbar.ax.xaxis.set_ticks_position(\"top\")\n",
    "cbar.ax.xaxis.set_label_position(\"top\")\n",
    "cbar.set_ticks([0, 2, 4, 6, 8, 10, 12])\n",
    "\n",
    "def plot_snapshot(output, lookback, zone_width = 0.1, **kwargs):\n",
    "    if os.path.exists(\"%s_gasvelocities.out\" % (output.name)):\n",
    "        radii, mu_gas, mu_o = mu(output, lookback, zone_width = zone_width)\n",
    "    else:\n",
    "        radii = [zone_width * (i + 0.5) for i in range(len(output.zones.keys()))]\n",
    "        mu_gas = len(radii) * [0.]\n",
    "    diff = [abs(_ - lookback) for _ in output.zones[\"zone0\"].history[\"lookback\"]]\n",
    "    idx = diff.index(min(diff))\n",
    "    err = []\n",
    "    for i in range(len(radii) - 1):\n",
    "        zone = output.zones[\"zone%d\" % (i)]\n",
    "        area = np.pi * ((radii[i] + zone_width)**2 - radii[i]**2)\n",
    "        try:\n",
    "            dmgdt = (zone.history[\"mgas\"][idx + 1] - zone.history[\"mgas\"][idx]) / (\n",
    "                zone.history[\"lookback\"][idx] - zone.history[\"lookback\"][idx + 1]) * 1.e-9\n",
    "        except:\n",
    "            print(idx)\n",
    "            print(len(zone.history[\"mgas\"]))\n",
    "            raise\n",
    "        expected = dmgdt + zone.history[\"sfr\"][idx] * (1 + zone.history[\"eta_0\"][idx] -\n",
    "            mu_gas[i] - 0.4)\n",
    "#             mu_gas[i] - zone.history[\"R_eff\"][idx])\n",
    "        expected /= area\n",
    "        actual = zone.history[\"ifr\"][idx] / area\n",
    "#         expected = zone.history[\"ifr\"][idx] - zone.history[\"sfr\"][idx] * (\n",
    "#             1 + zone.history[\"eta_0\"][idx] - mu_gas[i] - zone.history[\"R_eff\"][idx])\n",
    "#         actual = (zone.history[\"mgas\"][idx - 1] - zone.history[\"mgas\"][idx]) / (\n",
    "#             zone.history[\"lookback\"][idx - 1] - zone.history[\"lookback\"][idx]) * 1.e-9\n",
    "        err.append(expected - actual)\n",
    "#         err.append(actual - expected)\n",
    "#         err.append(dmgdt)\n",
    "#         err.append(expected)\n",
    "#         err.append(actual)\n",
    "#         if err[-1] > 0.01: print(actual, expected)\n",
    "    ax.plot(radii[:-1], err, **kwargs)\n",
    "    \n",
    "for i in range(len(LOOKBACKS)):\n",
    "    kwargs = {\n",
    "        \"c\": cmap.to_rgba(LOOKBACKS[i])\n",
    "    }\n",
    "    plot_snapshot(output, LOOKBACKS[i], **kwargs)\n",
    "\n",
    "plt.tight_layout()\n",
    "cbar_ax.set_position([\n",
    "    ax.get_position().x0,\n",
    "    ax.get_position().y1,\n",
    "    ax.get_position().x1 - ax.get_position().x0,\n",
    "    0.05\n",
    "])\n",
    "plt.show()"
   ]
  },
  {
   "cell_type": "code",
   "execution_count": null,
   "id": "0a55fb2c",
   "metadata": {},
   "outputs": [],
   "source": []
  }
 ],
 "metadata": {
  "kernelspec": {
   "display_name": "Python 3 (ipykernel)",
   "language": "python",
   "name": "python3"
  },
  "language_info": {
   "codemirror_mode": {
    "name": "ipython",
    "version": 3
   },
   "file_extension": ".py",
   "mimetype": "text/x-python",
   "name": "python",
   "nbconvert_exporter": "python",
   "pygments_lexer": "ipython3",
   "version": "3.10.2"
  }
 },
 "nbformat": 4,
 "nbformat_minor": 5
}
